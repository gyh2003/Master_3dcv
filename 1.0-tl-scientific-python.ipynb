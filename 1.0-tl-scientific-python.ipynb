!git clone https://github.com/gyh2003/Master_3dcv.git
import os
os.chdir('/content/Master_3dcv')
print("当前工作目录：", os.getcwd())
